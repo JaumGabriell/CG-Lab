{
 "cells": [
  {
   "cell_type": "markdown",
   "metadata": {},
   "source": [
    "Fazendo a inversão do vídeo\n"
   ]
  },
  {
   "cell_type": "code",
   "execution_count": 6,
   "metadata": {},
   "outputs": [],
   "source": [
    "import moviepy.editor as mpe\n",
    "import numpy as np\n",
    "import matplotlib.pyplot as plt\n",
    "\n",
    "video = mpe.VideoFileClip(\"video_projeto.mp4\")\n",
    "\n",
    "# Função para inverter o eixo do vídeo a cada 20 segundos\n",
    "def invert_axis(get_frame, t):\n",
    "    segment = int(t // 20) % 2\n",
    "    frame = get_frame(t)\n",
    "    if segment == 0:\n",
    "        return frame\n",
    "    else:\n",
    "        return np.fliplr(frame)\n",
    "    \n",
    "# Aplicando a função ao vídeo\n",
    "video_in = video.fl(invert_axis)\n",
    "#video_in.ipython_display(width=480, maxduration=300)\n",
    "\n",
    "\n",
    "\n"
   ]
  },
  {
   "cell_type": "markdown",
   "metadata": {},
   "source": [
    "Diminuindo o som do vídeo"
   ]
  },
  {
   "cell_type": "code",
   "execution_count": 7,
   "metadata": {},
   "outputs": [],
   "source": [
    "import moviepy.editor as mpe\n",
    "import numpy as np\n",
    "\n",
    "def decrease(audio, t, total_duration):\n",
    "    frame = audio(t)\n",
    "    remaining_time = total_duration - t\n",
    "    \n",
    "    if np.any(remaining_time <= 10):\n",
    "        frame[:, 0] *= 0\n",
    "        frame[:, 1] *= 0\n",
    "    else:\n",
    "        frame[:, 0] *= remaining_time / (total_duration - 10)\n",
    "        frame[:, 1] *= remaining_time / (total_duration - 10)\n",
    "    \n",
    "    return frame\n",
    "\n",
    "total_duration = video_in.duration\n",
    "\n",
    "audio_decrease = video_in.audio.fl(lambda gf, t: decrease(gf, t, total_duration))\n",
    "video_audio_decrease = video_in.set_audio(audio_decrease)\n",
    "\n",
    "#video_audio_decrease.ipython_display(width=480, maxduration=300)\n",
    "\n"
   ]
  },
  {
   "cell_type": "markdown",
   "metadata": {},
   "source": [
    "Fazendo o corte para 80 segundos"
   ]
  },
  {
   "cell_type": "code",
   "execution_count": 8,
   "metadata": {},
   "outputs": [],
   "source": [
    "# Faz um corte no vídeo após o primeiro minuto até o segundo 80\n",
    "video_cortado = video_audio_decrease.subclip(60, 80)\n",
    "\n",
    "#video_cortado.ipython_display(width=480, maxduration=300)"
   ]
  },
  {
   "cell_type": "markdown",
   "metadata": {},
   "source": [
    "Colocando o 20 segundos cortados no final do vídeo"
   ]
  },
  {
   "cell_type": "code",
   "execution_count": 9,
   "metadata": {},
   "outputs": [],
   "source": [
    "\n",
    "# Concatena o vídeo final com os 20 segundos cortados\n",
    "final_video = mpe.concatenate_videoclips([video_audio_decrease, video_cortado])\n",
    "\n",
    "#final_video.ipython_display(width=480, maxduration=300)"
   ]
  },
  {
   "cell_type": "markdown",
   "metadata": {},
   "source": [
    "Salvando o vídeo final. (Vou deixar em comentário por que não vou conseguir colocar no github por causa do tamanho)"
   ]
  },
  {
   "cell_type": "code",
   "execution_count": 10,
   "metadata": {},
   "outputs": [],
   "source": [
    "# Salva o vídeo final\n",
    "#final_video.write_videofile(\"videofinal.mp4\")"
   ]
  }
 ],
 "metadata": {
  "kernelspec": {
   "display_name": "Python 3",
   "language": "python",
   "name": "python3"
  },
  "language_info": {
   "codemirror_mode": {
    "name": "ipython",
    "version": 3
   },
   "file_extension": ".py",
   "mimetype": "text/x-python",
   "name": "python",
   "nbconvert_exporter": "python",
   "pygments_lexer": "ipython3",
   "version": "3.12.7"
  }
 },
 "nbformat": 4,
 "nbformat_minor": 2
}
